{
 "cells": [
  {
   "cell_type": "markdown",
   "id": "5802a952-c39f-46da-ab5f-dbbaec56a062",
   "metadata": {},
   "source": [
    "<h1>Applied Data Science Capstone Project Notebook - Urvashi M.</h2>"
   ]
  },
  {
   "cell_type": "code",
   "execution_count": 4,
   "id": "2eb412da-0298-43fa-89ee-83e769bfd672",
   "metadata": {},
   "outputs": [],
   "source": [
    "#import the libraries for assignment 1\n",
    "import pandas as pd\n",
    "import numpy as np"
   ]
  },
  {
   "cell_type": "code",
   "execution_count": 7,
   "id": "44903cef-b3de-48d3-9b80-c4ccf61c0d7e",
   "metadata": {},
   "outputs": [
    {
     "name": "stdout",
     "output_type": "stream",
     "text": [
      "Hello Capstone Project Course!\n"
     ]
    }
   ],
   "source": [
    "#Print the following the statement: Hello Capstone Project Course!\n",
    "print('Hello Capstone Project Course!')"
   ]
  }
 ],
 "metadata": {
  "kernelspec": {
   "display_name": "Python",
   "language": "python",
   "name": "conda-env-python-py"
  },
  "language_info": {
   "codemirror_mode": {
    "name": "ipython",
    "version": 3
   },
   "file_extension": ".py",
   "mimetype": "text/x-python",
   "name": "python",
   "nbconvert_exporter": "python",
   "pygments_lexer": "ipython3",
   "version": "3.6.13"
  }
 },
 "nbformat": 4,
 "nbformat_minor": 5
}
